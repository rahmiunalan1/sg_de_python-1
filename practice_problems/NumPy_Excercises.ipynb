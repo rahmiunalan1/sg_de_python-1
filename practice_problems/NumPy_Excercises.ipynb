{
  "cells": [
    {
      "cell_type": "markdown",
      "metadata": {
        "id": "ZINQrww1EboC"
      },
      "source": [
        "**Problem 1**\n",
        "\n",
        "Import Numpy as np"
      ]
    },
    {
      "cell_type": "code",
      "execution_count": 1,
      "metadata": {
        "id": "hOtevzjWrR-R"
      },
      "outputs": [],
      "source": [
        "\n",
        "import numpy as np"
      ]
    },
    {
      "cell_type": "markdown",
      "metadata": {
        "id": "K57VSkdZOhlC"
      },
      "source": [
        "**Problem 2**\n",
        "\n",
        "Create a 1D array of numbers from 0 to 9."
      ]
    },
    {
      "cell_type": "code",
      "execution_count": 3,
      "metadata": {
        "id": "EBKnp8nDOpq2"
      },
      "outputs": [
        {
          "name": "stdout",
          "output_type": "stream",
          "text": [
            "[0 1 2 3 4 5 6 7 8 9]\n"
          ]
        }
      ],
      "source": [
        "nums_1D = np.array([0,1,2,3,4,5,6,7,8,9])\n",
        "print(nums_1D)\n"
      ]
    },
    {
      "cell_type": "markdown",
      "metadata": {
        "id": "DpYFqU4XOwDO"
      },
      "source": [
        "**Problem 3**\n",
        "\n",
        "Create a 3×3 numpy array of all True’s."
      ]
    },
    {
      "cell_type": "code",
      "execution_count": 13,
      "metadata": {},
      "outputs": [
        {
          "name": "stdout",
          "output_type": "stream",
          "text": [
            "[[ True  True  True]\n",
            " [ True  True  True]\n",
            " [ True  True  True]]\n"
          ]
        }
      ],
      "source": [
        "nums_Arr2D = np.array([ [True, True, True], [True,True,True], [True,True, True]])\n",
        "print(nums_Arr2D)"
      ]
    },
    {
      "cell_type": "markdown",
      "metadata": {
        "id": "r8xDn0etO_Hn"
      },
      "source": [
        "**Problem 4**\n",
        "\n",
        "Extract all odd numbers from arr."
      ]
    },
    {
      "cell_type": "code",
      "execution_count": 14,
      "metadata": {
        "id": "_FeV7PzjPIJ7"
      },
      "outputs": [
        {
          "name": "stdout",
          "output_type": "stream",
          "text": [
            "[1 3 5 7 9]\n",
            "[0 2 4 6 8]\n",
            "<class 'numpy.ndarray'>\n"
          ]
        }
      ],
      "source": [
        "arr = np.array([0, 1, 2, 3, 4, 5, 6, 7, 8, 9])\n",
        "mask = arr % 2 != 0\n",
        "arr_b = arr[mask]\n",
        "print(arr_b)\n",
        "mask1 = arr %2 == 0\n",
        "arr_c = arr[mask1]\n",
        "print(arr_c)\n",
        "print(type(arr_b))"
      ]
    },
    {
      "cell_type": "markdown",
      "metadata": {
        "id": "PMDxdKKvPaQy"
      },
      "source": [
        "**Problem 5**\n",
        "\n",
        "Replace all odd numbers in arr with -1."
      ]
    },
    {
      "cell_type": "code",
      "execution_count": 16,
      "metadata": {
        "id": "utoQqbgNPj72"
      },
      "outputs": [
        {
          "name": "stdout",
          "output_type": "stream",
          "text": [
            "[ 0 -1  2 -1  4 -1  6 -1  8 -1]\n"
          ]
        }
      ],
      "source": [
        "arr = np.array([0, 1, 2, 3, 4, 5, 6, 7, 8, 9])\n",
        "#mask = arr % 2 != 0 \n",
        "arr[arr%2!=0]=-1\n",
        "print(arr)\n"
      ]
    },
    {
      "cell_type": "markdown",
      "metadata": {
        "id": "KXZ1Hw1WP0fk"
      },
      "source": [
        "**Problem 6**\n",
        "\n",
        "Convert a 1D array to a 2D array with 2 rows."
      ]
    },
    {
      "cell_type": "code",
      "execution_count": 18,
      "metadata": {
        "id": "9Vgx6sjTP8kj"
      },
      "outputs": [
        {
          "name": "stdout",
          "output_type": "stream",
          "text": [
            "[[0 1 2 3 4]\n",
            " [5 6 7 8 9]]\n"
          ]
        }
      ],
      "source": [
        "arr = np.arange(10)\n",
        "arr1 = np.reshape(arr,(2,5))\n",
        "print(arr1)"
      ]
    },
    {
      "cell_type": "markdown",
      "metadata": {
        "id": "oeZS60tuQB-L"
      },
      "source": [
        "**Problem 7** \n",
        "\n",
        "Stack arrays a and b vertically."
      ]
    },
    {
      "cell_type": "code",
      "execution_count": 46,
      "metadata": {
        "id": "xdIpealnQFnN"
      },
      "outputs": [
        {
          "name": "stdout",
          "output_type": "stream",
          "text": [
            "[[0 1 2 3 4]\n",
            " [5 6 7 8 9]]\n",
            "[[0 1]\n",
            " [2 3]\n",
            " [4 5]\n",
            " [6 7]\n",
            " [8 9]]\n",
            "[[1 1]\n",
            " [1 1]\n",
            " [1 1]\n",
            " [1 1]\n",
            " [1 1]]\n"
          ]
        }
      ],
      "source": [
        "a = np.arange(10).reshape(2,-1)\n",
        "b = np.repeat(1, 10).reshape(2,-1)\n",
        "print(a)\n",
        "a1 = a.reshape(5,2)\n",
        "print(a1)\n",
        "b1 = b.reshape(5,2)\n",
        "print(b1)\n",
        "#c = b.reshape(10,1)\n",
        "#print(c)"
      ]
    },
    {
      "cell_type": "markdown",
      "metadata": {
        "id": "zK-hXr8TQcfr"
      },
      "source": [
        "**Problem 8**\n",
        "\n",
        "Stack the arrays a and b horizontally."
      ]
    },
    {
      "cell_type": "code",
      "execution_count": 47,
      "metadata": {
        "id": "ZNxJNgcyQg7T"
      },
      "outputs": [
        {
          "name": "stdout",
          "output_type": "stream",
          "text": [
            "[[0 1 2 3 4]\n",
            " [5 6 7 8 9]]\n",
            "[[1 1 1 1 1]\n",
            " [1 1 1 1 1]]\n"
          ]
        },
        {
          "data": {
            "text/plain": [
              "array([[0, 1, 2, 3, 4, 1, 1, 1, 1, 1],\n",
              "       [5, 6, 7, 8, 9, 1, 1, 1, 1, 1]])"
            ]
          },
          "execution_count": 47,
          "metadata": {},
          "output_type": "execute_result"
        }
      ],
      "source": [
        "print(a)\n",
        "print(b)\n",
        "np.hstack((a,b))"
      ]
    },
    {
      "cell_type": "markdown",
      "metadata": {
        "id": "tUcrp_8tQwra"
      },
      "source": [
        "**Problem 9**\n",
        "\n",
        "Get the common items between a and b."
      ]
    },
    {
      "cell_type": "code",
      "execution_count": 39,
      "metadata": {
        "id": "H-HeXTDAQ-Ia"
      },
      "outputs": [
        {
          "name": "stdout",
          "output_type": "stream",
          "text": [
            "[2 4]\n"
          ]
        }
      ],
      "source": [
        "a = np.array([1,2,3,2,3,4,3,4,5,6])\n",
        "b = np.array([7,2,10,2,7,4,9,4,9,8])\n",
        "print(np.intersect1d(a,b))"
      ]
    },
    {
      "cell_type": "markdown",
      "metadata": {
        "id": "QJZuspVHREN2"
      },
      "source": [
        "**Problem 10**\n",
        "\n",
        "From array a remove all items present in array b"
      ]
    },
    {
      "cell_type": "code",
      "execution_count": 54,
      "metadata": {
        "id": "Si34slDHRI3Z"
      },
      "outputs": [
        {
          "name": "stdout",
          "output_type": "stream",
          "text": [
            "[2 5] [1 2 3]\n",
            "[1 2 3 4]\n"
          ]
        }
      ],
      "source": [
        "a = np.array([1,2,3,4,5])\n",
        "a1 = np.array([1,1,3,4,1])\n",
        "b = np.array([5,6,7,8,9])\n",
        "b1 = np.array([4,5,6,7,8,9])\n",
        "res = np.setdiff1d(a,a1)\n",
        "res1 = np.setdiff1d(a,b1)\n",
        "print(res, res1)\n",
        "print(np.setdiff1d(a,b))\n",
        "\n"
      ]
    },
    {
      "cell_type": "markdown",
      "metadata": {
        "id": "Kds0TCX9RP17"
      },
      "source": [
        "**Problem 11**\n",
        "\n",
        "Get the positions where elements of a and b match"
      ]
    },
    {
      "cell_type": "code",
      "execution_count": 76,
      "metadata": {
        "id": "IfHkCtxBRToJ"
      },
      "outputs": [
        {
          "name": "stdout",
          "output_type": "stream",
          "text": [
            "[1 3 5 7]\n",
            "[3]\n",
            "[0 2 3 4 6 8 9]\n"
          ]
        }
      ],
      "source": [
        "a = np.array([1,2,3,2,3,4,3,4,5,6])\n",
        "b = np.array([7,2,10,2,7,4,9,4,9,8])\n",
        "c = np.array([7,2,10,-2,7,4,9,4,9,8])\n",
        "print(np.arange(len(a))[a==b])\n",
        "print(np.arange(len(b))[b!=c])\n",
        "print(np.arange(len(c))[a!=c])\n"
      ]
    },
    {
      "cell_type": "markdown",
      "metadata": {
        "id": "XfB9DvvwRbhI"
      },
      "source": [
        "**Problem 12** \n",
        "\n",
        "Get all items between 5 and 10 from a."
      ]
    },
    {
      "cell_type": "code",
      "execution_count": 55,
      "metadata": {
        "id": "QTVXeUUHRkJW"
      },
      "outputs": [
        {
          "data": {
            "text/plain": [
              "array([6, 9])"
            ]
          },
          "execution_count": 55,
          "metadata": {},
          "output_type": "execute_result"
        }
      ],
      "source": [
        "a = np.array([2, 6, 1, 9, 10, 3, 27])\n",
        "a[np.logical_and(a>5, a < 10)]"
      ]
    },
    {
      "cell_type": "markdown",
      "metadata": {
        "id": "KfcEtysHRoPx"
      },
      "source": [
        "**Problem 13**\n",
        "\n",
        "Swap columns 1 and 2 in the array arr."
      ]
    },
    {
      "cell_type": "code",
      "execution_count": 67,
      "metadata": {
        "id": "fo33bz2ARx0b"
      },
      "outputs": [
        {
          "name": "stdout",
          "output_type": "stream",
          "text": [
            "[[0 1 2]\n",
            " [3 4 5]\n",
            " [6 7 8]]\n",
            "[[1 1 2]\n",
            " [4 4 5]\n",
            " [7 7 8]]\n",
            "sonuc\n",
            " [[1 0 2]\n",
            " [4 3 5]\n",
            " [7 6 8]]\n"
          ]
        }
      ],
      "source": [
        "arr = np.arange(9).reshape(3,3)\n",
        "print(arr)\n",
        "#print(arr[:,2])\n",
        "#print(arr[1,:])\n",
        "temp = np.copy(arr[:,0])\n",
        "arr[:,0] = arr[:,1]\n",
        "print(arr)\n",
        "arr[:,1] = temp\n",
        "print(\"sonuc\\n\",arr)"
      ]
    },
    {
      "cell_type": "markdown",
      "metadata": {
        "id": "e5qFi-P_R18E"
      },
      "source": [
        "**Problem 14**\n",
        "\n",
        "Swap rows 1 and 2 in the array arr."
      ]
    },
    {
      "cell_type": "code",
      "execution_count": 71,
      "metadata": {
        "id": "ieV5B7zYR6KQ"
      },
      "outputs": [
        {
          "name": "stdout",
          "output_type": "stream",
          "text": [
            "[[0 1 2]\n",
            " [3 4 5]\n",
            " [6 7 8]]\n",
            "[[0 1 2]\n",
            " [6 7 8]\n",
            " [3 4 5]]\n",
            "[[0 1 2]\n",
            " [3 4 5]\n",
            " [6 7 8]]\n"
          ]
        },
        {
          "data": {
            "text/plain": [
              "array([0])"
            ]
          },
          "execution_count": 71,
          "metadata": {},
          "output_type": "execute_result"
        }
      ],
      "source": [
        "arr = np.arange(9).reshape(3,3)\n",
        "print(arr)\n",
        "temp = np.copy(arr[1,:])\n",
        "arr[1,:] = arr[2,:]\n",
        "arr[2,:] = temp\n",
        "print(arr)\n",
        "arr1 = np.arange(9).reshape(3,3)\n",
        "print(arr1)\n",
        "np.flip([0])"
      ]
    },
    {
      "cell_type": "markdown",
      "metadata": {
        "id": "ZIY9it8hSArU"
      },
      "source": [
        "**Problem 15**\n",
        "\n",
        "Reverse the rows of a 2D array arr."
      ]
    },
    {
      "cell_type": "code",
      "execution_count": null,
      "metadata": {
        "id": "hOmvemu-SEsS"
      },
      "outputs": [],
      "source": [
        "arr = np.arange(9).reshape(3,3)"
      ]
    },
    {
      "cell_type": "markdown",
      "metadata": {
        "id": "oSgPt_TdSVDy"
      },
      "source": [
        "**Problem 16**\n",
        "\n",
        "Reverse the columns of a 2D array arr."
      ]
    },
    {
      "cell_type": "code",
      "execution_count": null,
      "metadata": {
        "id": "aWxmDyDISZcD"
      },
      "outputs": [],
      "source": [
        "arr = np.arange(9).reshape(3,3)"
      ]
    },
    {
      "cell_type": "markdown",
      "metadata": {
        "id": "d2R7iAovSf3I"
      },
      "source": [
        "**Problem 17**\n",
        "\n",
        "Create a 2D array of shape 5x3 to contain random decimal numbers between 5 and 10"
      ]
    },
    {
      "cell_type": "code",
      "execution_count": null,
      "metadata": {
        "id": "WHHJ70XCSoQw"
      },
      "outputs": [],
      "source": []
    },
    {
      "cell_type": "markdown",
      "metadata": {
        "id": "NBCPj9PVSvvS"
      },
      "source": [
        "**Problem 18**\n",
        "\n",
        "Print or show only 3 decimal places of the numpy array rand_arr."
      ]
    },
    {
      "cell_type": "code",
      "execution_count": null,
      "metadata": {
        "id": "w3LjmoNxS7V9"
      },
      "outputs": [],
      "source": []
    }
  ],
  "metadata": {
    "colab": {
      "provenance": []
    },
    "kernelspec": {
      "display_name": "Python 3",
      "name": "python3"
    },
    "language_info": {
      "codemirror_mode": {
        "name": "ipython",
        "version": 3
      },
      "file_extension": ".py",
      "mimetype": "text/x-python",
      "name": "python",
      "nbconvert_exporter": "python",
      "pygments_lexer": "ipython3",
      "version": "3.10.9"
    }
  },
  "nbformat": 4,
  "nbformat_minor": 0
}
