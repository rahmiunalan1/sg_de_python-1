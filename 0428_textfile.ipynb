{
 "cells": [
  {
   "cell_type": "code",
   "execution_count": 4,
   "metadata": {},
   "outputs": [],
   "source": [
    "with open('my_file.txt', mode='w',encoding='utf-8') as f:\n",
    "    f.write(\"The first line\\n\")\n",
    "    f.write(\"And this is the secong line\\n\")\n",
    "    f.write(\"This is currently the last line\\n\")"
   ]
  },
  {
   "cell_type": "code",
   "execution_count": 2,
   "metadata": {},
   "outputs": [
    {
     "name": "stdout",
     "output_type": "stream",
     "text": [
      "['The first line And this is the secong lineThis is currently the last line']\n"
     ]
    }
   ],
   "source": [
    "with open(\"my_file.txt\", mode='r+') as fo:\n",
    "    print(fo.readlines())"
   ]
  },
  {
   "cell_type": "code",
   "execution_count": 5,
   "metadata": {},
   "outputs": [
    {
     "name": "stdout",
     "output_type": "stream",
     "text": [
      "['The first line\\n', 'And this is the secong line\\n', 'This is currently the last line\\n']\n"
     ]
    }
   ],
   "source": [
    "with open(\"my_file.txt\", mode='r+') as fo:\n",
    "    print(fo.readlines())"
   ]
  },
  {
   "cell_type": "code",
   "execution_count": null,
   "metadata": {},
   "outputs": [],
   "source": [
    "with open('my_file.txt',mode='r') as ph:\n",
    "    ph.write()"
   ]
  },
  {
   "cell_type": "code",
   "execution_count": 6,
   "metadata": {},
   "outputs": [
    {
     "ename": "AttributeError",
     "evalue": "'_io.TextIOWrapper' object has no attribute 'lock_ex'",
     "output_type": "error",
     "traceback": [
      "\u001b[1;31m---------------------------------------------------------------------------\u001b[0m",
      "\u001b[1;31mAttributeError\u001b[0m                            Traceback (most recent call last)",
      "Cell \u001b[1;32mIn[6], line 2\u001b[0m\n\u001b[0;32m      1\u001b[0m \u001b[39mwith\u001b[39;00m \u001b[39mopen\u001b[39m(\u001b[39m'\u001b[39m\u001b[39mmy_file.txt\u001b[39m\u001b[39m'\u001b[39m, \u001b[39m'\u001b[39m\u001b[39mw\u001b[39m\u001b[39m'\u001b[39m) \u001b[39mas\u001b[39;00m file:\n\u001b[1;32m----> 2\u001b[0m        file\u001b[39m.\u001b[39;49mlock_ex()\n\u001b[0;32m      3\u001b[0m        file\u001b[39m.\u001b[39mwrite(\u001b[39m'\u001b[39m\u001b[39mHello, world!\u001b[39m\u001b[39m'\u001b[39m)\n\u001b[0;32m      4\u001b[0m        file\u001b[39m.\u001b[39munlock()\n",
      "\u001b[1;31mAttributeError\u001b[0m: '_io.TextIOWrapper' object has no attribute 'lock_ex'"
     ]
    }
   ],
   "source": [
    "with open('my_file.txt', 'w') as file:\n",
    "       file.lock_ex()\n",
    "       file.write('Hello, world!')\n",
    "       file.unlock()"
   ]
  },
  {
   "cell_type": "code",
   "execution_count": 12,
   "metadata": {},
   "outputs": [],
   "source": [
    "with open('courses.txt', mode='w') as csv_file:\n",
    "    csv_file.write('Course ID, Course Name, Instructor\\n')\n",
    "    csv_file.write('CSIPL01, Introduction to Java, Marcial Gordon\\n')\n",
    "    csv_file.write('CSIPL02, Introduction to Python, Young Wook Baek')"
   ]
  },
  {
   "cell_type": "code",
   "execution_count": null,
   "metadata": {},
   "outputs": [],
   "source": [
    "with open(\"courses.csv\",mode='r+') as csv_file:\n",
    "    for line in csv_file.read().split('\\n'):\n",
    "        c_id, c_name, instructor = line.split(',')\n",
    "        print(c_id, '\\t', c_name, '(',instructor, ')')\n"
   ]
  },
  {
   "cell_type": "code",
   "execution_count": 13,
   "metadata": {},
   "outputs": [
    {
     "name": "stdout",
     "output_type": "stream",
     "text": [
      "Course ID \t  Course Name (  Instructor )\n",
      "CSIPL01 \t  Introduction to Java (  Marcial Gordon )\n",
      "CSIPL02 \t  Introduction to Python (  Young Wook Baek )\n"
     ]
    }
   ],
   "source": [
    "with open(\"courses.txt\",mode='r+') as csv_file:\n",
    "    for line in csv_file.read().split('\\n'):\n",
    "        c_id, c_name, instructor = line.split(',')\n",
    "        print(c_id, '\\t', c_name, '(',instructor, ')')\n"
   ]
  }
 ],
 "metadata": {
  "kernelspec": {
   "display_name": "Python 3",
   "language": "python",
   "name": "python3"
  },
  "language_info": {
   "codemirror_mode": {
    "name": "ipython",
    "version": 3
   },
   "file_extension": ".py",
   "mimetype": "text/x-python",
   "name": "python",
   "nbconvert_exporter": "python",
   "pygments_lexer": "ipython3",
   "version": "3.10.9"
  },
  "orig_nbformat": 4
 },
 "nbformat": 4,
 "nbformat_minor": 2
}
